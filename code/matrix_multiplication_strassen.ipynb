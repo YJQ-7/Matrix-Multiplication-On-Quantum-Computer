{
 "cells": [
  {
   "cell_type": "code",
   "execution_count": 1,
   "metadata": {
    "collapsed": true,
    "pycharm": {
     "name": "#%%\n"
    }
   },
   "outputs": [],
   "source": [
    "from memory_profiler import profile\n",
    "import pennylane as qml\n",
    "import pennylane.numpy as np\n",
    "import time\n",
    "from functools import wraps\n",
    "from line_profiler import LineProfiler\n",
    "import csv"
   ]
  },
  {
   "cell_type": "code",
   "execution_count": 2,
   "outputs": [],
   "source": [
    "wires_m=[0,1,2,3,4,5]\n",
    "wires_solution=[6,7,8,9,10,11,12,13,14,15,16]"
   ],
   "metadata": {
    "collapsed": false,
    "pycharm": {
     "name": "#%%\n"
    }
   }
  },
  {
   "cell_type": "code",
   "execution_count": 3,
   "outputs": [],
   "source": [
    "dev = qml.device(\"default.qubit\", wires=wires_m  + wires_solution, shots=1)\n",
    "\n",
    "n_wires = len(dev.wires)"
   ],
   "metadata": {
    "collapsed": false,
    "pycharm": {
     "name": "#%%\n"
    }
   }
  },
  {
   "cell_type": "code",
   "execution_count": 4,
   "outputs": [],
   "source": [
    "# def calculate_time_add(func):\n",
    "#     @wraps(func)\n",
    "#     def wrapper(*args, **kwargs):\n",
    "#         start = time.time()\n",
    "#         result = func(*args, **kwargs)\n",
    "#         end = time.time()\n",
    "#         execution_time = (end - start) * 1000  # 转换成毫秒\n",
    "#         global add_time\n",
    "#         add_time+=execution_time\n",
    "#         return result\n",
    "#     return wrapper\n",
    "#\n",
    "# def calculate_time_mul(func):\n",
    "#     @wraps(func)\n",
    "#     def wrapper(*args, **kwargs):\n",
    "#         start = time.time()\n",
    "#         result = func(*args, **kwargs)\n",
    "#         end = time.time()\n",
    "#         execution_time = (end - start) * 1000  # 转换成毫秒\n",
    "#         global mul_time\n",
    "#         mul_time+=execution_time\n",
    "#         return result\n",
    "#     return wrapper\n",
    "#\n",
    "# def calculate_time(func):\n",
    "#     @wraps(func)\n",
    "#     def wrapper(*args, **kwargs):\n",
    "#         start = time.time()\n",
    "#         result = func(*args, **kwargs)\n",
    "#         end = time.time()\n",
    "#         execution_time = (end - start) * 1000  # 转换成毫秒\n",
    "#         global total_time\n",
    "#         total_time=execution_time\n",
    "#         return result\n",
    "#     return wrapper"
   ],
   "metadata": {
    "collapsed": false,
    "pycharm": {
     "name": "#%%\n"
    }
   }
  },
  {
   "cell_type": "code",
   "execution_count": 5,
   "outputs": [],
   "source": [
    "def add_k_fourier(k, wires):\n",
    "    for j in range(len(wires)):\n",
    "        qml.RZ(k * np.pi / (2**j), wires=wires[j])"
   ],
   "metadata": {
    "collapsed": false,
    "pycharm": {
     "name": "#%%\n"
    }
   }
  },
  {
   "cell_type": "code",
   "execution_count": 6,
   "outputs": [],
   "source": [
    "def multiplication(k,wires_m, wires_solution):\n",
    "    qml.QFT(wires=wires_solution)\n",
    "    for i in range(len(wires_m)-1,-1,-1):\n",
    "        qml.ctrl(add_k_fourier, control=wires_m[i])(k, wires_solution[len(wires_m)-1-i:])\n",
    "    qml.adjoint(qml.QFT)(wires=wires_solution)\n",
    "\n",
    "# @calculate_time_mul\n",
    "@qml.qnode(dev)\n",
    "def mul(m,k):\n",
    "    qml.BasisEmbedding(m, wires=wires_m)  # m encoding\n",
    "    multiplication(k,wires_m, wires_solution)\n",
    "    return qml.sample(wires=wires_solution)\n",
    "\n",
    "def mul2(m,k):\n",
    "    mul_result=mul(abs(m),abs(k))\n",
    "    mul_result=int(''.join(map(str, list(mul_result))), 2)\n",
    "    if (m>0 and k>0)|(m<0 and k<0):\n",
    "        mul_result=mul_result\n",
    "    else:\n",
    "        mul_result=-mul_result\n",
    "    return mul_result"
   ],
   "metadata": {
    "collapsed": false,
    "pycharm": {
     "name": "#%%\n"
    }
   }
  },
  {
   "cell_type": "code",
   "execution_count": 7,
   "outputs": [],
   "source": [
    "# @calculate_time_add\n",
    "@qml.qnode(dev)\n",
    "def sum(m, k):\n",
    "    qml.BasisEmbedding(m, wires=range(len(wires_solution)))  # m encoding\n",
    "    qml.QFT(wires=range(len(wires_solution)))  # step 1\n",
    "    add_k_fourier(k, range(len(wires_solution)))  # step 2\n",
    "    qml.adjoint(qml.QFT)(wires=range(len(wires_solution)))  # step 3\n",
    "    return qml.sample(wires=range(len(wires_solution)))\n",
    "\n",
    "def sum2(m,k):\n",
    "    sum_result=sum(m,k)\n",
    "    sum_result2=int(''.join(map(str, list(sum_result[1:]))), 2)\n",
    "    if sum_result[0]==1:\n",
    "        sum_result2=sum(pow(2,n_wires-1),-sum_result2)\n",
    "        sum_result2=-int(''.join(map(str, list(sum_result2[1:]))), 2)\n",
    "    return sum_result2\n",
    "\n",
    "def Matrix_add(a,b):\n",
    "    a_order=a.shape[0]\n",
    "    c=np.zeros((a_order,a_order))\n",
    "    for i in range(a_order):\n",
    "        for j in range(a_order):\n",
    "            c[i][j]=sum2(a[i][j],b[i][j])\n",
    "            # print(c)\n",
    "    return c.astype(int)\n",
    "\n",
    "@qml.qnode(dev)\n",
    "def sum_4num(m, k, a, b):\n",
    "    qml.BasisEmbedding(m, wires=range(len(wires_solution)))  # m encoding\n",
    "    qml.QFT(wires=range(len(wires_solution)))  # step 1\n",
    "    add_k_fourier(k, range(len(wires_solution)))  # step 2\n",
    "    add_k_fourier(a, range(len(wires_solution)))  # step 2\n",
    "    add_k_fourier(b, range(len(wires_solution)))  # step 2\n",
    "    qml.adjoint(qml.QFT)(wires=range(len(wires_solution)))  # step 3\n",
    "    return qml.sample(wires=range(len(wires_solution)))\n",
    "\n",
    "# @calculate_time_add\n",
    "def sum2_4num(m,k,a,b):\n",
    "    sum_result=sum_4num(m,k,a,b)\n",
    "    sum_result2=int(''.join(map(str, list(sum_result[1:]))), 2)\n",
    "    if sum_result[0]==1:\n",
    "        sum_result2=sum(pow(2,n_wires-1),-sum_result2)\n",
    "        sum_result2=-int(''.join(map(str, list(sum_result2[1:]))), 2)\n",
    "    return sum_result2\n",
    "\n",
    "\n",
    "def Matrix_add_4num(a,b,c,d):\n",
    "    a_order=a.shape[0]\n",
    "    e=np.zeros((a_order,a_order))\n",
    "    for i in range(a_order):\n",
    "        for j in range(a_order):\n",
    "            e[i][j]=sum2_4num(a[i][j],b[i][j],c[i][j],d[i][j])\n",
    "            # print(c)\n",
    "    return e.astype(int)"
   ],
   "metadata": {
    "collapsed": false,
    "pycharm": {
     "name": "#%%\n"
    }
   }
  },
  {
   "cell_type": "code",
   "execution_count": 8,
   "outputs": [],
   "source": [
    "def split_matrix(matrix):\n",
    "    row, col = matrix.shape\n",
    "    row2, col2 = row // 2, col // 2\n",
    "    return matrix[:row2, :col2], matrix[:row2, col2:], matrix[row2:, :col2], matrix[row2:, col2:]"
   ],
   "metadata": {
    "collapsed": false,
    "pycharm": {
     "name": "#%%\n"
    }
   }
  },
  {
   "cell_type": "code",
   "execution_count": 9,
   "outputs": [],
   "source": [
    "# @calculate_time\n",
    "def strassen(A, B):\n",
    "    if min(A.shape) <= 1:\n",
    "        p_num=mul2(A[0][0],B[0][0])\n",
    "        p=np.full((1,1),p_num)\n",
    "        # print(p)\n",
    "        return p\n",
    "\n",
    "    # Split matrices into quadrants\n",
    "    a11, a12, a21, a22 = split_matrix(A)\n",
    "    b11, b12, b21, b22 = split_matrix(B)\n",
    "\n",
    "    k1=Matrix_add(a11 , a22)\n",
    "    k2=Matrix_add(b11 , b22)\n",
    "    k3=Matrix_add(a21 , a22)\n",
    "    k4=Matrix_add(b12 , -b22)\n",
    "    k5=Matrix_add(b21 , -b11)\n",
    "    k6=Matrix_add(a11 , a12)\n",
    "    k7=Matrix_add(a21 , -a11)\n",
    "    k8=Matrix_add(b11 , b12)\n",
    "    k9=Matrix_add(a12 , -a22)\n",
    "    k10=Matrix_add(b21 , b22)\n",
    "\n",
    "    # Strassen's 7 multiplications\n",
    "    m1 = strassen(k1,k2)\n",
    "    m2 = strassen(k3, b11)\n",
    "    m3 = strassen(a11, k4)\n",
    "    m4 = strassen(a22, k5)\n",
    "    m5 = strassen(k6, b22)\n",
    "    m6 = strassen(k7, k8)\n",
    "    m7 = strassen(k9, k10)\n",
    "\n",
    "    # Compute the quadrants of the result matrix\n",
    "    c11 = Matrix_add_4num(m1 , m4 , -m5, m7)\n",
    "    c12 = Matrix_add(m3 , m5)\n",
    "    c21 = Matrix_add(m2 , m4)\n",
    "    c22 = Matrix_add_4num(m1 , -m2 , m3, m6)\n",
    "\n",
    "    # Concatenate the quadrants to get the result\n",
    "    return np.vstack((np.hstack((c11, c12)), np.hstack((c21, c22))))"
   ],
   "metadata": {
    "collapsed": false,
    "pycharm": {
     "name": "#%%\n"
    }
   }
  },
  {
   "cell_type": "code",
   "execution_count": 10,
   "outputs": [
    {
     "name": "stdout",
     "output_type": "stream",
     "text": [
      "Matrix A:\n",
      " [[2 2]\n",
      " [2 2]]\n",
      "Matrix B:\n",
      " [[2 2]\n",
      " [2 2]]\n",
      "Result Matrix C:\n",
      " [[8 8]\n",
      " [8 8]]\n"
     ]
    }
   ],
   "source": [
    "k=2\n",
    "val=2\n",
    "A=np.full((k,k),val)\n",
    "B=np.full((k,k),val)\n",
    "# A=np.array([[1,2],[3,2]])\n",
    "# B=np.array([[2,3],[1,2]])\n",
    "\n",
    "# Multiply using Strassen algorithm\n",
    "C = strassen(A, B)\n",
    "print(\"Matrix A:\\n\", A)\n",
    "print(\"Matrix B:\\n\", B)\n",
    "print(\"Result Matrix C:\\n\", C)\n",
    "\n",
    "\n",
    "# csv_file = open('multication_strassen.csv', 'a', newline='')\n",
    "# writer = csv.writer(csv_file)\n",
    "# data = [['size', 'value', 'add_time', 'mul_time', 'total_time'], [k, val, add_time, mul_time, total_time]]\n",
    "# writer.writerows(data)\n",
    "# csv_file.close()"
   ],
   "metadata": {
    "collapsed": false,
    "pycharm": {
     "name": "#%%\n"
    }
   }
  },
  {
   "cell_type": "code",
   "execution_count": null,
   "outputs": [],
   "source": [],
   "metadata": {
    "collapsed": false,
    "pycharm": {
     "name": "#%%\n"
    }
   }
  }
 ],
 "metadata": {
  "kernelspec": {
   "display_name": "Python 3",
   "language": "python",
   "name": "python3"
  },
  "language_info": {
   "codemirror_mode": {
    "name": "ipython",
    "version": 2
   },
   "file_extension": ".py",
   "mimetype": "text/x-python",
   "name": "python",
   "nbconvert_exporter": "python",
   "pygments_lexer": "ipython2",
   "version": "2.7.6"
  }
 },
 "nbformat": 4,
 "nbformat_minor": 0
}