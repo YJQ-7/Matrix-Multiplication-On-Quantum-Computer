{
 "cells": [
  {
   "cell_type": "code",
   "execution_count": 6,
   "metadata": {
    "collapsed": true,
    "pycharm": {
     "name": "#%%\n"
    }
   },
   "outputs": [],
   "source": [
    "from memory_profiler import profile\n",
    "import pennylane as qml\n",
    "import pennylane.numpy as np\n",
    "import time\n",
    "from functools import wraps\n",
    "from line_profiler import LineProfiler\n",
    "import csv"
   ]
  },
  {
   "cell_type": "code",
   "execution_count": 9,
   "outputs": [],
   "source": [
    "# wires_m=[0]\n",
    "# wires_solution=[1,2,3,4,5,6,7,8,9,10,11]\n",
    "\n",
    "wires_m=[0,1]\n",
    "wires_solution=[2,3,4,5,6,7,8,9,10,11,12]\n",
    "\n",
    "# wires_m=[0,1,2]\n",
    "# wires_solution=[3,4,5,6,7,8,9,10,11,12,13]\n",
    "#\n",
    "# wires_m=[0,1,2,3]\n",
    "# wires_solution=[4,5,6,7,8,9,10,11,12,13,14]\n",
    "\n",
    "# wires_m=[0,1,2,3,4]\n",
    "# wires_solution=[5,6,7,8,9,10,11,12,13,14,15]\n",
    "#\n",
    "# add_time=0\n",
    "# mul_time=0\n",
    "# total_time=0"
   ],
   "metadata": {
    "collapsed": false,
    "pycharm": {
     "name": "#%%\n"
    }
   }
  },
  {
   "cell_type": "code",
   "execution_count": 10,
   "outputs": [],
   "source": [
    "dev = qml.device(\"default.qubit\", wires=wires_m  + wires_solution, shots=1)\n",
    "# dev = qml.device(\"qiskit.ibmq\", wires=wires_m + wires_solution, shots=1000, backend='',overwrite=True, ibmqx_token='')\n",
    "\n",
    "n_wires = len(dev.wires)"
   ],
   "metadata": {
    "collapsed": false,
    "pycharm": {
     "name": "#%%\n"
    }
   }
  },
  {
   "cell_type": "code",
   "execution_count": null,
   "outputs": [],
   "source": [
    "# def calculate_time_add(func):\n",
    "#     @wraps(func)\n",
    "#     def wrapper(*args, **kwargs):\n",
    "#         start = time.time()\n",
    "#         result = func(*args, **kwargs)\n",
    "#         end = time.time()\n",
    "#         execution_time = (end - start) * 1000  # 转换成毫秒\n",
    "#         global add_time\n",
    "#         add_time+=execution_time\n",
    "#         return result\n",
    "#     return wrapper\n",
    "#\n",
    "# def calculate_time_mul(func):\n",
    "#     @wraps(func)\n",
    "#     def wrapper(*args, **kwargs):\n",
    "#         start = time.time()\n",
    "#         result = func(*args, **kwargs)\n",
    "#         end = time.time()\n",
    "#         execution_time = (end - start) * 1000  # 转换成毫秒\n",
    "#         global mul_time\n",
    "#         mul_time+=execution_time\n",
    "#         return result\n",
    "#     return wrapper\n",
    "#\n",
    "# def calculate_time(func):\n",
    "#     @wraps(func)\n",
    "#     def wrapper(*args, **kwargs):\n",
    "#         start = time.time()\n",
    "#         result = func(*args, **kwargs)\n",
    "#         end = time.time()\n",
    "#         execution_time = (end - start) * 1000  # 转换成毫秒\n",
    "#         global total_time\n",
    "#         total_time=execution_time\n",
    "#         return result\n",
    "#     return wrapper"
   ],
   "metadata": {
    "collapsed": false,
    "pycharm": {
     "name": "#%%\n"
    }
   }
  },
  {
   "cell_type": "code",
   "execution_count": 11,
   "outputs": [],
   "source": [
    "def add_k_fourier(k, wires):\n",
    "    for j in range(len(wires)):\n",
    "        qml.RZ(k * np.pi / (2**j), wires=wires[j])"
   ],
   "metadata": {
    "collapsed": false,
    "pycharm": {
     "name": "#%%\n"
    }
   }
  },
  {
   "cell_type": "code",
   "execution_count": 12,
   "outputs": [],
   "source": [
    "def multiplication(k,wires_m, wires_solution):\n",
    "    for i in range(len(wires_m)-1,-1,-1):\n",
    "        qml.ctrl(add_k_fourier, control=wires_m[i])(k, wires_solution[len(wires_m)-1-i:])\n",
    "\n",
    "\n",
    "# @calculate_time_mul\n",
    "@qml.qnode(dev)\n",
    "def mul(m,k):\n",
    "    qml.BasisEmbedding(m, wires=wires_m)  # m encoding\n",
    "    qml.QFT(wires=wires_solution)\n",
    "    multiplication(k,wires_m, wires_solution)\n",
    "    qml.adjoint(qml.QFT)(wires=wires_solution)\n",
    "    return qml.sample(wires=wires_solution)"
   ],
   "metadata": {
    "collapsed": false,
    "pycharm": {
     "name": "#%%\n"
    }
   }
  },
  {
   "cell_type": "code",
   "execution_count": 13,
   "outputs": [],
   "source": [
    "# @calculate_time_add\n",
    "@qml.qnode(dev)\n",
    "def sum3(m, k):\n",
    "    qml.BasisEmbedding(m, wires=range(len(wires_solution)))  # m encoding\n",
    "    qml.QFT(wires=range(len(wires_solution)))  # step 1\n",
    "    add_k_fourier(k, range(len(wires_solution)))  # step 2\n",
    "    qml.adjoint(qml.QFT)(wires=range(len(wires_solution)))  # step 3\n",
    "    return qml.sample(wires=range(len(wires_solution)))"
   ],
   "metadata": {
    "collapsed": false,
    "pycharm": {
     "name": "#%%\n"
    }
   }
  },
  {
   "cell_type": "code",
   "execution_count": 14,
   "outputs": [],
   "source": [
    "k=2\n",
    "val=2\n",
    "matrix_a=np.full((k,k),val)\n",
    "matrix_b=np.full((k,k),val)\n",
    "\n",
    "n=matrix_a.shape[0]\n",
    "m=matrix_b.shape[1]\n",
    "matrix_c=np.zeros((n,m))"
   ],
   "metadata": {
    "collapsed": false,
    "pycharm": {
     "name": "#%%\n"
    }
   }
  },
  {
   "cell_type": "code",
   "execution_count": 16,
   "outputs": [],
   "source": [
    "def dot(a,b):\n",
    "    listx=[]\n",
    "    x=0\n",
    "    for i in range(a.shape[0]):\n",
    "        mulnum=mul(int(a[i]),int(b[i]))\n",
    "        mulnum=int(''.join(map(str, list(mulnum))), 2)\n",
    "        listx.append(mulnum)\n",
    "    i=0\n",
    "    while(listx.__len__()>1):\n",
    "        i=0\n",
    "        sumnum=sum3(listx[i], listx[i+1])\n",
    "        sumnum=int(''.join(map(str, list(sumnum))), 2)\n",
    "        x=x+sumnum\n",
    "        i=i+1\n",
    "        if listx.__len__()>=2:\n",
    "            listx=listx[2:]\n",
    "            listx.insert(0,sumnum)\n",
    "    return listx[0]\n",
    "\n",
    "# @calculate_time\n",
    "def matrix_multiplication_mulpro():\n",
    "    for i in range(n):\n",
    "        for j in range(m):\n",
    "            matrix_c[i, j] = dot(matrix_a[i], matrix_b[:, j])\n",
    "            # print(matrix_c[i,j])\n",
    "            print(matrix_c)"
   ],
   "metadata": {
    "collapsed": false,
    "pycharm": {
     "name": "#%%\n"
    }
   }
  },
  {
   "cell_type": "code",
   "execution_count": 17,
   "outputs": [
    {
     "name": "stdout",
     "output_type": "stream",
     "text": [
      "[[8. 0.]\n",
      " [0. 0.]]\n",
      "[[8. 8.]\n",
      " [0. 0.]]\n",
      "[[8. 8.]\n",
      " [8. 0.]]\n",
      "[[8. 8.]\n",
      " [8. 8.]]\n"
     ]
    }
   ],
   "source": [
    "if __name__=='__main__':\n",
    "    matrix_multiplication_mulpro()\n",
    "\n",
    "    # csv_file = open('multication_mulpro.csv', 'a', newline='')\n",
    "    # writer = csv.writer(csv_file)\n",
    "    # data = [['size', 'value', 'add_time', 'mul_time', 'total_time'], [k, val, add_time, mul_time, total_time]]\n",
    "    # writer.writerows(data)\n",
    "    # csv_file.close()"
   ],
   "metadata": {
    "collapsed": false,
    "pycharm": {
     "name": "#%%\n"
    }
   }
  },
  {
   "cell_type": "code",
   "execution_count": null,
   "outputs": [],
   "source": [],
   "metadata": {
    "collapsed": false,
    "pycharm": {
     "name": "#%%\n"
    }
   }
  }
 ],
 "metadata": {
  "kernelspec": {
   "display_name": "Python 3",
   "language": "python",
   "name": "python3"
  },
  "language_info": {
   "codemirror_mode": {
    "name": "ipython",
    "version": 2
   },
   "file_extension": ".py",
   "mimetype": "text/x-python",
   "name": "python",
   "nbconvert_exporter": "python",
   "pygments_lexer": "ipython2",
   "version": "2.7.6"
  }
 },
 "nbformat": 4,
 "nbformat_minor": 0
}